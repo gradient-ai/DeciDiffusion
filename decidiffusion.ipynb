{
 "cells": [
  {
   "cell_type": "markdown",
   "id": "a3426daf-798c-4084-9ed6-d8d1c53eedf6",
   "metadata": {},
   "source": [
    "# Install the necessary libraries"
   ]
  },
  {
   "cell_type": "code",
   "execution_count": null,
   "id": "a77d8c4d-5074-403b-a9b2-6fb8f98793e8",
   "metadata": {},
   "outputs": [],
   "source": [
    "#install the packages using pip\n",
    "!pip install --quiet git+https://github.com/huggingface/diffusers.git@d420d71398d9c5a8d9a5f95ba2bdb6fe3d8ae31f\n",
    "!pip install --quiet ipython-autotime\n",
    "!pip install --quiet transformers==4.34.1 accelerate==0.24.0 safetensors==0.4.0\n",
    "!pip install --quiet ipyplot\n",
    "%load_ext autotime"
   ]
  },
  {
   "cell_type": "code",
   "execution_count": null,
   "id": "132f3329-9b9e-435b-9a2c-72f7b6b59245",
   "metadata": {},
   "outputs": [],
   "source": [
    "#import the necessary libraries\n",
    "from diffusers import StableDiffusionXLPipeline, StableDiffusionPipeline, DiffusionPipeline \n",
    "import torch\n",
    "import ipyplot\n",
    "import time"
   ]
  },
  {
   "cell_type": "markdown",
   "id": "a60c9f1f-d394-46df-bbc5-ed6f896970ec",
   "metadata": {},
   "source": [
    "# DeciDiffusion\n"
   ]
  },
  {
   "cell_type": "code",
   "execution_count": null,
   "id": "38051471-9c1d-4fe2-bdf9-b18434571926",
   "metadata": {},
   "outputs": [],
   "source": [
    "from diffusers import StableDiffusionPipeline\n",
    "device = 'cuda' if torch.cuda.is_available() else 'cpu'\n",
    "checkpoint = \"Deci/DeciDiffusion-v1-0\""
   ]
  },
  {
   "cell_type": "markdown",
   "id": "153a596e-d284-4059-82a9-f063e5ce6006",
   "metadata": {},
   "source": [
    "# build the pipeline"
   ]
  },
  {
   "cell_type": "code",
   "execution_count": null,
   "id": "6625a108-ad0f-4c42-958e-105899504173",
   "metadata": {},
   "outputs": [],
   "source": [
    "pipeline = StableDiffusionPipeline.from_pretrained(checkpoint, custom_pipeline=checkpoint, torch_dtype=torch.float16)\n"
   ]
  },
  {
   "cell_type": "markdown",
   "id": "845171c4-dd76-4a96-acf3-fae35e9ef47c",
   "metadata": {},
   "source": [
    "# U-Net pipeline"
   ]
  },
  {
   "cell_type": "code",
   "execution_count": null,
   "id": "ecc39b03-4ca4-47e0-bdab-cdbee7243d0a",
   "metadata": {},
   "outputs": [],
   "source": [
    "pipeline.unet = pipeline.unet.from_pretrained(checkpoint, subfolder='flexible_unet', torch_dtype=torch.float16)\n"
   ]
  },
  {
   "cell_type": "markdown",
   "id": "1690aeaa-989d-4d24-b2b3-76612423624a",
   "metadata": {},
   "source": [
    "# DeciDiffusion in Action"
   ]
  },
  {
   "cell_type": "code",
   "execution_count": null,
   "id": "b9698dbd-28ce-4558-ac26-6a4b763c5b6e",
   "metadata": {},
   "outputs": [],
   "source": [
    "img = pipeline(prompt=['A photo of an astronaut riding a horse on Mars']).images[0]\n",
    "img"
   ]
  },
  {
   "cell_type": "code",
   "execution_count": null,
   "id": "0b4f66ad-31a0-4a1d-adc6-af6af9b2a1ca",
   "metadata": {},
   "outputs": [],
   "source": [
    "img2 = pipeline(prompt=['A big owl with bright shinning eyes']).images[0]\n",
    "img2"
   ]
  }
 ],
 "metadata": {
  "kernelspec": {
   "display_name": "Python 3 (ipykernel)",
   "language": "python",
   "name": "python3"
  },
  "language_info": {
   "codemirror_mode": {
    "name": "ipython",
    "version": 3
   },
   "file_extension": ".py",
   "mimetype": "text/x-python",
   "name": "python",
   "nbconvert_exporter": "python",
   "pygments_lexer": "ipython3",
   "version": "3.9.13"
  }
 },
 "nbformat": 4,
 "nbformat_minor": 5
}
